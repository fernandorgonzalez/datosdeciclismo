{
 "cells": [
  {
   "cell_type": "code",
   "execution_count": 142,
   "id": "83f51fe0",
   "metadata": {
    "executionInfo": {
     "elapsed": 12,
     "status": "ok",
     "timestamp": 1630690672861,
     "user": {
      "displayName": "Fernando Gonzalez",
      "photoUrl": "https://lh3.googleusercontent.com/a-/AOh14Gh7p8KA6gOiWvQIBpMuTuGcT0ZLEadSv12Lq81Q2g=s64",
      "userId": "09884971220560839805"
     },
     "user_tz": 180
    },
    "id": "83f51fe0"
   },
   "outputs": [],
   "source": [
    "from sklearn.tree import DecisionTreeRegressor\n",
    "from sklearn.linear_model import LinearRegression\n",
    "import json\n",
    "import matplotlib.pyplot as plt\n",
    "import numpy as np\n",
    "import pandas as pd\n",
    "import requests\n",
    "import seaborn as sns"
   ]
  },
  {
   "cell_type": "code",
   "execution_count": 143,
   "id": "d0da5b21",
   "metadata": {
    "executionInfo": {
     "elapsed": 4,
     "status": "ok",
     "timestamp": 1630690673129,
     "user": {
      "displayName": "Fernando Gonzalez",
      "photoUrl": "https://lh3.googleusercontent.com/a-/AOh14Gh7p8KA6gOiWvQIBpMuTuGcT0ZLEadSv12Lq81Q2g=s64",
      "userId": "09884971220560839805"
     },
     "user_tz": 180
    },
    "id": "d0da5b21"
   },
   "outputs": [],
   "source": [
    "url = 'https://www.datosdeciclismo.com/api/actividades/?atleta=&a%C3%B1o=&mes=&dia=&tipo='"
   ]
  },
  {
   "cell_type": "code",
   "execution_count": 144,
   "id": "2a1ec396",
   "metadata": {
    "executionInfo": {
     "elapsed": 1101,
     "status": "ok",
     "timestamp": 1630690674227,
     "user": {
      "displayName": "Fernando Gonzalez",
      "photoUrl": "https://lh3.googleusercontent.com/a-/AOh14Gh7p8KA6gOiWvQIBpMuTuGcT0ZLEadSv12Lq81Q2g=s64",
      "userId": "09884971220560839805"
     },
     "user_tz": 180
    },
    "id": "2a1ec396"
   },
   "outputs": [],
   "source": [
    "contenido = requests.get(url).text"
   ]
  },
  {
   "cell_type": "code",
   "execution_count": 145,
   "id": "741a6550",
   "metadata": {
    "executionInfo": {
     "elapsed": 8,
     "status": "ok",
     "timestamp": 1630690674228,
     "user": {
      "displayName": "Fernando Gonzalez",
      "photoUrl": "https://lh3.googleusercontent.com/a-/AOh14Gh7p8KA6gOiWvQIBpMuTuGcT0ZLEadSv12Lq81Q2g=s64",
      "userId": "09884971220560839805"
     },
     "user_tz": 180
    },
    "id": "741a6550"
   },
   "outputs": [],
   "source": [
    "objeto = json.loads(contenido)"
   ]
  },
  {
   "cell_type": "code",
   "execution_count": 146,
   "id": "102dabd6",
   "metadata": {
    "executionInfo": {
     "elapsed": 7,
     "status": "ok",
     "timestamp": 1630690674229,
     "user": {
      "displayName": "Fernando Gonzalez",
      "photoUrl": "https://lh3.googleusercontent.com/a-/AOh14Gh7p8KA6gOiWvQIBpMuTuGcT0ZLEadSv12Lq81Q2g=s64",
      "userId": "09884971220560839805"
     },
     "user_tz": 180
    },
    "id": "102dabd6"
   },
   "outputs": [],
   "source": [
    "lista = []"
   ]
  },
  {
   "cell_type": "code",
   "execution_count": 147,
   "id": "3ae637e6",
   "metadata": {
    "executionInfo": {
     "elapsed": 295,
     "status": "ok",
     "timestamp": 1630690674518,
     "user": {
      "displayName": "Fernando Gonzalez",
      "photoUrl": "https://lh3.googleusercontent.com/a-/AOh14Gh7p8KA6gOiWvQIBpMuTuGcT0ZLEadSv12Lq81Q2g=s64",
      "userId": "09884971220560839805"
     },
     "user_tz": 180
    },
    "id": "3ae637e6"
   },
   "outputs": [],
   "source": [
    "for i in range(len(objeto)):\n",
    "    \n",
    "    id = i\n",
    "    fecha = [*objeto.values()][i]['Fecha']\n",
    "    año = [*objeto.values()][i]['Año']\n",
    "    mes = [*objeto.values()][i]['Mes']\n",
    "    dia = [*objeto.values()][i]['Día']\n",
    "    tipo = [*objeto.values()][i]['Tipo']\n",
    "    altura = [*objeto.values()][i]['Altura']\n",
    "    cadencia = [*objeto.values()][i]['Cadencia']\n",
    "    distancia = [*objeto.values()][i]['Distancia']\n",
    "    potencia = [*objeto.values()][i]['Potencia']\n",
    "    pulsaciones = [*objeto.values()][i]['Pulsaciones']\n",
    "    tiempo = [*objeto.values()][i]['Tiempo']\n",
    "    velocidad = [*objeto.values()][i]['Velocidad']\n",
    "    atleta = [*objeto.values()][i]['Atleta']\n",
    "        \n",
    "    lista.append([id,fecha,año,mes,dia,tipo,altura,cadencia,distancia,potencia,pulsaciones,tiempo,velocidad,atleta])"
   ]
  },
  {
   "cell_type": "code",
   "execution_count": 148,
   "id": "dffdac81",
   "metadata": {},
   "outputs": [],
   "source": [
    "df = pd.DataFrame(lista, columns = ('id','fecha','año','mes','dia','tipo','altura','cadencia','distancia','potencia','pulsaciones','tiempo','velocidad','atleta') )"
   ]
  },
  {
   "cell_type": "code",
   "execution_count": 149,
   "id": "1d8a47cf",
   "metadata": {},
   "outputs": [
    {
     "data": {
      "text/html": [
       "<div>\n",
       "<style scoped>\n",
       "    .dataframe tbody tr th:only-of-type {\n",
       "        vertical-align: middle;\n",
       "    }\n",
       "\n",
       "    .dataframe tbody tr th {\n",
       "        vertical-align: top;\n",
       "    }\n",
       "\n",
       "    .dataframe thead th {\n",
       "        text-align: right;\n",
       "    }\n",
       "</style>\n",
       "<table border=\"1\" class=\"dataframe\">\n",
       "  <thead>\n",
       "    <tr style=\"text-align: right;\">\n",
       "      <th></th>\n",
       "      <th>id</th>\n",
       "      <th>fecha</th>\n",
       "      <th>año</th>\n",
       "      <th>mes</th>\n",
       "      <th>dia</th>\n",
       "      <th>tipo</th>\n",
       "      <th>altura</th>\n",
       "      <th>cadencia</th>\n",
       "      <th>distancia</th>\n",
       "      <th>potencia</th>\n",
       "      <th>pulsaciones</th>\n",
       "      <th>tiempo</th>\n",
       "      <th>velocidad</th>\n",
       "      <th>atleta</th>\n",
       "    </tr>\n",
       "  </thead>\n",
       "  <tbody>\n",
       "    <tr>\n",
       "      <th>0</th>\n",
       "      <td>0</td>\n",
       "      <td>20211102</td>\n",
       "      <td>2021</td>\n",
       "      <td>11</td>\n",
       "      <td>2</td>\n",
       "      <td>Virtual</td>\n",
       "      <td>162.0</td>\n",
       "      <td>87.6</td>\n",
       "      <td>63.46</td>\n",
       "      <td>143.3</td>\n",
       "      <td>91.9</td>\n",
       "      <td>2:00:02</td>\n",
       "      <td>31.72</td>\n",
       "      <td>Fernando Gonzalez</td>\n",
       "    </tr>\n",
       "    <tr>\n",
       "      <th>1</th>\n",
       "      <td>1</td>\n",
       "      <td>20211101</td>\n",
       "      <td>2021</td>\n",
       "      <td>11</td>\n",
       "      <td>1</td>\n",
       "      <td>Virtual</td>\n",
       "      <td>119.0</td>\n",
       "      <td>84.5</td>\n",
       "      <td>80.09</td>\n",
       "      <td>173.4</td>\n",
       "      <td>101.3</td>\n",
       "      <td>2:00:13</td>\n",
       "      <td>39.97</td>\n",
       "      <td>Fernando Gonzalez</td>\n",
       "    </tr>\n",
       "    <tr>\n",
       "      <th>2</th>\n",
       "      <td>2</td>\n",
       "      <td>20211101</td>\n",
       "      <td>2021</td>\n",
       "      <td>11</td>\n",
       "      <td>1</td>\n",
       "      <td>Ruta</td>\n",
       "      <td>0.0</td>\n",
       "      <td>82.7</td>\n",
       "      <td>0.00</td>\n",
       "      <td>154.5</td>\n",
       "      <td>116.9</td>\n",
       "      <td>0:40:05</td>\n",
       "      <td>0.00</td>\n",
       "      <td>Renzo Gherbassi</td>\n",
       "    </tr>\n",
       "    <tr>\n",
       "      <th>3</th>\n",
       "      <td>3</td>\n",
       "      <td>20211031</td>\n",
       "      <td>2021</td>\n",
       "      <td>10</td>\n",
       "      <td>31</td>\n",
       "      <td>Ruta</td>\n",
       "      <td>195.6</td>\n",
       "      <td>71.9</td>\n",
       "      <td>18.66</td>\n",
       "      <td>177.5</td>\n",
       "      <td>99.7</td>\n",
       "      <td>0:35:45</td>\n",
       "      <td>31.32</td>\n",
       "      <td>Agustin Perez</td>\n",
       "    </tr>\n",
       "    <tr>\n",
       "      <th>4</th>\n",
       "      <td>4</td>\n",
       "      <td>20211031</td>\n",
       "      <td>2021</td>\n",
       "      <td>10</td>\n",
       "      <td>31</td>\n",
       "      <td>Ruta</td>\n",
       "      <td>170.0</td>\n",
       "      <td>79.4</td>\n",
       "      <td>59.43</td>\n",
       "      <td>160.2</td>\n",
       "      <td>121.3</td>\n",
       "      <td>2:00:02</td>\n",
       "      <td>29.71</td>\n",
       "      <td>Renzo Gherbassi</td>\n",
       "    </tr>\n",
       "  </tbody>\n",
       "</table>\n",
       "</div>"
      ],
      "text/plain": [
       "   id     fecha   año  mes  dia     tipo  altura  cadencia  distancia  \\\n",
       "0   0  20211102  2021   11    2  Virtual   162.0      87.6      63.46   \n",
       "1   1  20211101  2021   11    1  Virtual   119.0      84.5      80.09   \n",
       "2   2  20211101  2021   11    1     Ruta     0.0      82.7       0.00   \n",
       "3   3  20211031  2021   10   31     Ruta   195.6      71.9      18.66   \n",
       "4   4  20211031  2021   10   31     Ruta   170.0      79.4      59.43   \n",
       "\n",
       "   potencia  pulsaciones   tiempo  velocidad             atleta  \n",
       "0     143.3         91.9  2:00:02      31.72  Fernando Gonzalez  \n",
       "1     173.4        101.3  2:00:13      39.97  Fernando Gonzalez  \n",
       "2     154.5        116.9  0:40:05       0.00    Renzo Gherbassi  \n",
       "3     177.5         99.7  0:35:45      31.32      Agustin Perez  \n",
       "4     160.2        121.3  2:00:02      29.71    Renzo Gherbassi  "
      ]
     },
     "execution_count": 149,
     "metadata": {},
     "output_type": "execute_result"
    }
   ],
   "source": [
    "df.head()"
   ]
  },
  {
   "cell_type": "code",
   "execution_count": 150,
   "id": "c405269f",
   "metadata": {},
   "outputs": [
    {
     "data": {
      "text/plain": [
       "(1695, 14)"
      ]
     },
     "execution_count": 150,
     "metadata": {},
     "output_type": "execute_result"
    }
   ],
   "source": [
    "df.shape"
   ]
  },
  {
   "cell_type": "code",
   "execution_count": 151,
   "id": "4d81b9f7",
   "metadata": {},
   "outputs": [],
   "source": [
    "df = df.loc[ (df.atleta == 'Fernando Gonzalez') & (df.cadencia > 0) & (df.potencia > 0) & (df.pulsaciones > 0) & (df.pulsaciones < 160) , : ]"
   ]
  },
  {
   "cell_type": "code",
   "execution_count": 152,
   "id": "ce620349",
   "metadata": {},
   "outputs": [
    {
     "data": {
      "text/plain": [
       "(415, 14)"
      ]
     },
     "execution_count": 152,
     "metadata": {},
     "output_type": "execute_result"
    }
   ],
   "source": [
    "df.shape"
   ]
  },
  {
   "cell_type": "code",
   "execution_count": 153,
   "id": "f2f1f886",
   "metadata": {},
   "outputs": [
    {
     "data": {
      "text/plain": [
       "<seaborn.axisgrid.FacetGrid at 0x7f7ce723a790>"
      ]
     },
     "execution_count": 153,
     "metadata": {},
     "output_type": "execute_result"
    },
    {
     "data": {
      "image/png": "[encoded data removed]",
      "text/plain": [
       "<Figure size 851.25x720 with 1 Axes>"
      ]
     },
     "metadata": {
      "needs_background": "light"
     },
     "output_type": "display_data"
    }
   ],
   "source": [
    "sns.lmplot(data=df,\n",
    "           x=\"pulsaciones\",\n",
    "           y=\"potencia\",\n",
    "           hue=\"atleta\",\n",
    "           height=10)"
   ]
  },
  {
   "cell_type": "code",
   "execution_count": 154,
   "id": "cd644bbf",
   "metadata": {},
   "outputs": [],
   "source": [
    "#model = DecisionTreeRegressor(random_state=1)\n",
    "model = LinearRegression()"
   ]
  },
  {
   "cell_type": "code",
   "execution_count": 155,
   "id": "a7316bb4",
   "metadata": {},
   "outputs": [],
   "source": [
    "x = df[['pulsaciones']]"
   ]
  },
  {
   "cell_type": "code",
   "execution_count": 156,
   "id": "66993561",
   "metadata": {},
   "outputs": [],
   "source": [
    "y = df[['potencia']]"
   ]
  },
  {
   "cell_type": "code",
   "execution_count": 157,
   "id": "b7eb49a6",
   "metadata": {},
   "outputs": [
    {
     "data": {
      "text/plain": [
       "LinearRegression()"
      ]
     },
     "execution_count": 157,
     "metadata": {},
     "output_type": "execute_result"
    }
   ],
   "source": [
    "model.fit(x, y)"
   ]
  },
  {
   "cell_type": "code",
   "execution_count": 158,
   "id": "e369892b",
   "metadata": {},
   "outputs": [
    {
     "data": {
      "text/html": [
       "<div>\n",
       "<style scoped>\n",
       "    .dataframe tbody tr th:only-of-type {\n",
       "        vertical-align: middle;\n",
       "    }\n",
       "\n",
       "    .dataframe tbody tr th {\n",
       "        vertical-align: top;\n",
       "    }\n",
       "\n",
       "    .dataframe thead th {\n",
       "        text-align: right;\n",
       "    }\n",
       "</style>\n",
       "<table border=\"1\" class=\"dataframe\">\n",
       "  <thead>\n",
       "    <tr style=\"text-align: right;\">\n",
       "      <th></th>\n",
       "      <th>id</th>\n",
       "      <th>año</th>\n",
       "      <th>mes</th>\n",
       "      <th>dia</th>\n",
       "      <th>altura</th>\n",
       "      <th>cadencia</th>\n",
       "      <th>distancia</th>\n",
       "      <th>potencia</th>\n",
       "      <th>pulsaciones</th>\n",
       "      <th>velocidad</th>\n",
       "    </tr>\n",
       "  </thead>\n",
       "  <tbody>\n",
       "    <tr>\n",
       "      <th>count</th>\n",
       "      <td>415.000000</td>\n",
       "      <td>415.000000</td>\n",
       "      <td>415.000000</td>\n",
       "      <td>415.000000</td>\n",
       "      <td>415.000000</td>\n",
       "      <td>415.000000</td>\n",
       "      <td>415.000000</td>\n",
       "      <td>415.00000</td>\n",
       "      <td>415.000000</td>\n",
       "      <td>415.000000</td>\n",
       "    </tr>\n",
       "    <tr>\n",
       "      <th>mean</th>\n",
       "      <td>919.746988</td>\n",
       "      <td>2020.843373</td>\n",
       "      <td>6.363855</td>\n",
       "      <td>15.792771</td>\n",
       "      <td>277.698795</td>\n",
       "      <td>85.885060</td>\n",
       "      <td>65.266434</td>\n",
       "      <td>197.92241</td>\n",
       "      <td>113.557590</td>\n",
       "      <td>37.475422</td>\n",
       "    </tr>\n",
       "    <tr>\n",
       "      <th>std</th>\n",
       "      <td>489.416443</td>\n",
       "      <td>0.363887</td>\n",
       "      <td>3.399367</td>\n",
       "      <td>8.839440</td>\n",
       "      <td>207.165302</td>\n",
       "      <td>3.690642</td>\n",
       "      <td>28.582628</td>\n",
       "      <td>24.27958</td>\n",
       "      <td>8.631497</td>\n",
       "      <td>3.499819</td>\n",
       "    </tr>\n",
       "    <tr>\n",
       "      <th>min</th>\n",
       "      <td>0.000000</td>\n",
       "      <td>2020.000000</td>\n",
       "      <td>1.000000</td>\n",
       "      <td>1.000000</td>\n",
       "      <td>4.000000</td>\n",
       "      <td>71.500000</td>\n",
       "      <td>5.500000</td>\n",
       "      <td>124.30000</td>\n",
       "      <td>84.700000</td>\n",
       "      <td>25.460000</td>\n",
       "    </tr>\n",
       "    <tr>\n",
       "      <th>25%</th>\n",
       "      <td>515.000000</td>\n",
       "      <td>2021.000000</td>\n",
       "      <td>3.000000</td>\n",
       "      <td>8.000000</td>\n",
       "      <td>106.500000</td>\n",
       "      <td>83.750000</td>\n",
       "      <td>41.460000</td>\n",
       "      <td>184.00000</td>\n",
       "      <td>107.900000</td>\n",
       "      <td>34.795000</td>\n",
       "    </tr>\n",
       "    <tr>\n",
       "      <th>50%</th>\n",
       "      <td>956.000000</td>\n",
       "      <td>2021.000000</td>\n",
       "      <td>6.000000</td>\n",
       "      <td>16.000000</td>\n",
       "      <td>242.000000</td>\n",
       "      <td>86.100000</td>\n",
       "      <td>70.140000</td>\n",
       "      <td>196.70000</td>\n",
       "      <td>114.000000</td>\n",
       "      <td>38.050000</td>\n",
       "    </tr>\n",
       "    <tr>\n",
       "      <th>75%</th>\n",
       "      <td>1353.000000</td>\n",
       "      <td>2021.000000</td>\n",
       "      <td>9.000000</td>\n",
       "      <td>23.000000</td>\n",
       "      <td>391.500000</td>\n",
       "      <td>88.150000</td>\n",
       "      <td>83.810000</td>\n",
       "      <td>214.30000</td>\n",
       "      <td>119.450000</td>\n",
       "      <td>40.530000</td>\n",
       "    </tr>\n",
       "    <tr>\n",
       "      <th>max</th>\n",
       "      <td>1693.000000</td>\n",
       "      <td>2021.000000</td>\n",
       "      <td>12.000000</td>\n",
       "      <td>31.000000</td>\n",
       "      <td>1198.000000</td>\n",
       "      <td>94.400000</td>\n",
       "      <td>140.040000</td>\n",
       "      <td>258.10000</td>\n",
       "      <td>139.400000</td>\n",
       "      <td>43.350000</td>\n",
       "    </tr>\n",
       "  </tbody>\n",
       "</table>\n",
       "</div>"
      ],
      "text/plain": [
       "                id          año         mes         dia       altura  \\\n",
       "count   415.000000   415.000000  415.000000  415.000000   415.000000   \n",
       "mean    919.746988  2020.843373    6.363855   15.792771   277.698795   \n",
       "std     489.416443     0.363887    3.399367    8.839440   207.165302   \n",
       "min       0.000000  2020.000000    1.000000    1.000000     4.000000   \n",
       "25%     515.000000  2021.000000    3.000000    8.000000   106.500000   \n",
       "50%     956.000000  2021.000000    6.000000   16.000000   242.000000   \n",
       "75%    1353.000000  2021.000000    9.000000   23.000000   391.500000   \n",
       "max    1693.000000  2021.000000   12.000000   31.000000  1198.000000   \n",
       "\n",
       "         cadencia   distancia   potencia  pulsaciones   velocidad  \n",
       "count  415.000000  415.000000  415.00000   415.000000  415.000000  \n",
       "mean    85.885060   65.266434  197.92241   113.557590   37.475422  \n",
       "std      3.690642   28.582628   24.27958     8.631497    3.499819  \n",
       "min     71.500000    5.500000  124.30000    84.700000   25.460000  \n",
       "25%     83.750000   41.460000  184.00000   107.900000   34.795000  \n",
       "50%     86.100000   70.140000  196.70000   114.000000   38.050000  \n",
       "75%     88.150000   83.810000  214.30000   119.450000   40.530000  \n",
       "max     94.400000  140.040000  258.10000   139.400000   43.350000  "
      ]
     },
     "execution_count": 158,
     "metadata": {},
     "output_type": "execute_result"
    }
   ],
   "source": [
    "df.describe()"
   ]
  },
  {
   "cell_type": "code",
   "execution_count": 174,
   "id": "50451618",
   "metadata": {},
   "outputs": [
    {
     "name": "stdout",
     "output_type": "stream",
     "text": [
      "Pulsaciones?\n",
      "350\n",
      "La potencia estimada para 350 pulsaciones es de [[731.08841573]] watts\n"
     ]
    }
   ],
   "source": [
    "print(\"Pulsaciones?\")\n",
    "pulsaciones = int(input())\n",
    "print(\"La potencia estimada para\" , pulsaciones, \"pulsaciones es de\", model.predict([[pulsaciones]]), \"watts\")"
   ]
  }
 ],
 "metadata": {
  "colab": {
   "name": "datosdeciclismo.ipynb",
   "provenance": []
  },
  "kernelspec": {
   "display_name": "Python 3",
   "language": "python",
   "name": "python3"
  },
  "language_info": {
   "codemirror_mode": {
    "name": "ipython",
    "version": 3
   },
   "file_extension": ".py",
   "mimetype": "text/x-python",
   "name": "python",
   "nbconvert_exporter": "python",
   "pygments_lexer": "ipython3",
   "version": "3.8.8"
  }
 },
 "nbformat": 4,
 "nbformat_minor": 5
}
